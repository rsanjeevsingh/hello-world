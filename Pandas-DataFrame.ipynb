{
 "cells": [
  {
   "cell_type": "code",
   "execution_count": 79,
   "metadata": {},
   "outputs": [],
   "source": [
    "import numpy as np\n",
    "import pandas as pd"
   ]
  },
  {
   "cell_type": "code",
   "execution_count": 80,
   "metadata": {},
   "outputs": [
    {
     "name": "stdout",
     "output_type": "stream",
     "text": [
      "{'City': 0        Hyderbad\n",
      "1         Chennai\n",
      "2      Maharastra\n",
      "3        Patanahi\n",
      "4    NotFromEarth\n",
      "dtype: object, 'FirstName': 0    Sanjeev\n",
      "1    Yuvaraj\n",
      "2     Shreya\n",
      "3       Gope\n",
      "4      Ramya\n",
      "dtype: object, 'Age': 0    23\n",
      "1    27\n",
      "2    24\n",
      "3    25\n",
      "4    35\n",
      "dtype: int64, 'Sex': 0      Male\n",
      "1      Male\n",
      "2    Female\n",
      "3    Female\n",
      "4    Female\n",
      "dtype: object, 'Phone': 0     10\n",
      "1     20\n",
      "2     30\n",
      "3     40\n",
      "4    100\n",
      "dtype: int64, 'NickName': 0      Rajabeta\n",
      "1       YuviDon\n",
      "2    ChubuChubu\n",
      "3        Chintu\n",
      "4      RamuKaka\n",
      "dtype: object}\n"
     ]
    }
   ],
   "source": [
    "dict1={\n",
    "    'FirstName':pd.Series(['Sanjeev','Yuvaraj','Shreya','Gope','Ramya']),\n",
    "    'NickName':pd.Series(['Rajabeta','YuviDon','ChubuChubu','Chintu','RamuKaka']),\n",
    "    'Age':pd.Series([23,27,24,25,35]),\n",
    "    'Sex':pd.Series(['Male','Male','Female','Female','Female']),\n",
    "    'City':pd.Series(['Hyderbad','Chennai','Maharastra','Patanahi','NotFromEarth']),\n",
    "    'Phone':pd.Series([10,20,30,40,100])\n",
    "}\n",
    "print dict1"
   ]
  },
  {
   "cell_type": "code",
   "execution_count": 81,
   "metadata": {},
   "outputs": [
    {
     "name": "stdout",
     "output_type": "stream",
     "text": [
      "   Age          City FirstName    NickName  Phone     Sex\n",
      "0   23      Hyderbad   Sanjeev    Rajabeta     10    Male\n",
      "1   27       Chennai   Yuvaraj     YuviDon     20    Male\n",
      "2   24    Maharastra    Shreya  ChubuChubu     30  Female\n",
      "3   25      Patanahi      Gope      Chintu     40  Female\n",
      "4   35  NotFromEarth     Ramya    RamuKaka    100  Female\n",
      "\n",
      "\n",
      "(5, 6)\n",
      "Column Headers -  Index([u'Age', u'City', u'FirstName', u'NickName', u'Phone', u'Sex'], dtype='object')\n",
      "Particular Column\n",
      "0     10\n",
      "1     20\n",
      "2     30\n",
      "3     40\n",
      "4    100\n",
      "Name: Phone, dtype: int64\n",
      "Nick Name: \n",
      "  0     SanjeevRajabeta\n",
      "1      YuvarajYuviDon\n",
      "2    ShreyaChubuChubu\n",
      "3          GopeChintu\n",
      "4       RamyaRamuKaka\n",
      "dtype: object\n",
      "   Age          City FirstName    NickName  Phone     Sex          Fullname\n",
      "0   23      Hyderbad   Sanjeev    Rajabeta     10    Male   SanjeevRajabeta\n",
      "1   27       Chennai   Yuvaraj     YuviDon     20    Male    YuvarajYuviDon\n",
      "2   24    Maharastra    Shreya  ChubuChubu     30  Female  ShreyaChubuChubu\n",
      "3   25      Patanahi      Gope      Chintu     40  Female        GopeChintu\n",
      "4   35  NotFromEarth     Ramya    RamuKaka    100  Female     RamyaRamuKaka\n"
     ]
    }
   ],
   "source": [
    "df=pd.DataFrame(dict1)\n",
    "print df\n",
    "print '\\n\\n',df.shape\n",
    "print 'Column Headers - ',df.columns\n",
    "print 'Particular Column\\n', df['Phone']\n",
    "print 'Nick Name: \\n ',df['FirstName']+df['NickName']\n",
    "#Add Column in DataFrame\n",
    "df['Fullname']=df['FirstName']+df['NickName']\n",
    "\n",
    "print df"
   ]
  },
  {
   "cell_type": "code",
   "execution_count": 82,
   "metadata": {},
   "outputs": [
    {
     "name": "stdout",
     "output_type": "stream",
     "text": [
      "   Age          City FirstName    NickName  Phone     Sex          Fullname  \\\n",
      "0   23      Hyderbad   Sanjeev    Rajabeta     10    Male   SanjeevRajabeta   \n",
      "1   27       Chennai   Yuvaraj     YuviDon     20    Male    YuvarajYuviDon   \n",
      "2   24    Maharastra    Shreya  ChubuChubu     30  Female  ShreyaChubuChubu   \n",
      "3   25      Patanahi      Gope      Chintu     40  Female        GopeChintu   \n",
      "4   35  NotFromEarth     Ramya    RamuKaka    100  Female     RamyaRamuKaka   \n",
      "\n",
      "     Salary  \n",
      "0   79350.0  \n",
      "1   93150.0  \n",
      "2   82800.0  \n",
      "3   86250.0  \n",
      "4  120750.0  \n"
     ]
    }
   ],
   "source": [
    "#Differnet ways to add columns to Data Frame\n",
    "df['Salary']=round(np.random.random(),2)*df['Age']*5000\n",
    "\n",
    "sal = df['Salary']>25000\n",
    "sal1 = df[df['Salary']<25000]\n",
    "print df"
   ]
  },
  {
   "cell_type": "code",
   "execution_count": 110,
   "metadata": {},
   "outputs": [
    {
     "name": "stdout",
     "output_type": "stream",
     "text": [
      "Index([u'Date', u'Open', u'High', u'Low', u'Last', u'Close',\n",
      "       u'Total Trade Quantity', u'Turnover (Lacs)'],\n",
      "      dtype='object')\n"
     ]
    },
    {
     "data": {
      "text/plain": [
       "Date                    1998-03-20\n",
       "Open                         201.3\n",
       "High                        204.95\n",
       "Low                          180.4\n",
       "Last                           200\n",
       "Close                        200.9\n",
       "Total Trade Quantity           150\n",
       "Turnover (Lacs)               2.31\n",
       "dtype: object"
      ]
     },
     "execution_count": 110,
     "metadata": {},
     "output_type": "execute_result"
    }
   ],
   "source": [
    "#Read-Write data from files..\n",
    "data=pd.read_csv('NSE-WIPRO.csv')\n",
    "#print 'Type of data - ',type(data)\n",
    "#print 'Content \\n',data\n",
    "#print data.describe()\n",
    "#print len(data)\n",
    "#print data.head()\n",
    "#print data.tail()\n",
    "#print data.index\n",
    "#print data.columns\n",
    "#print data.shape\n",
    "#Rename\n",
    "#print data\n",
    "#print data.columns\n",
    "data.rename(columns={\"Hello\":\"Last\"},inplace=True)\n",
    "print data.columns\n",
    "data.drop([\"Close\"],axis=1)\n",
    "\n",
    "data.max()\n",
    "data.min()\n",
    "#df=pd.read_csv('NSE-Wipro.csv',parse_dates=['Date'])"
   ]
  },
  {
   "cell_type": "code",
   "execution_count": null,
   "metadata": {},
   "outputs": [],
   "source": []
  }
 ],
 "metadata": {
  "kernelspec": {
   "display_name": "Python 2",
   "language": "python",
   "name": "python2"
  },
  "language_info": {
   "codemirror_mode": {
    "name": "ipython",
    "version": 2
   },
   "file_extension": ".py",
   "mimetype": "text/x-python",
   "name": "python",
   "nbconvert_exporter": "python",
   "pygments_lexer": "ipython2",
   "version": "2.7.15"
  }
 },
 "nbformat": 4,
 "nbformat_minor": 2
}
