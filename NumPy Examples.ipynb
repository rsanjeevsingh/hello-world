{
 "cells": [
  {
   "cell_type": "code",
   "execution_count": 28,
   "metadata": {},
   "outputs": [],
   "source": [
    "import numpy as np"
   ]
  },
  {
   "cell_type": "code",
   "execution_count": 35,
   "metadata": {},
   "outputs": [
    {
     "name": "stdout",
     "output_type": "stream",
     "text": [
      "Type: <type 'numpy.ndarray'>\n",
      "Content: [ 10  20  30  40  50  60  70  80  90 100]\n",
      "Length: 10\n",
      "Dimension (10L,)\n",
      "5th Index Element 60\n",
      "Range: [10 20 30 40]\n"
     ]
    }
   ],
   "source": [
    "x=np.array([10,20,30,40,50,60,70,80,90,100])\n",
    "print 'Type:',type(x)\n",
    "print 'Content:',x\n",
    "print 'Length:',len(x)\n",
    "print 'Dimension',x.shape\n",
    "print '5th Index Element',x[5]\n",
    "print 'Range:',x[0:5]"
   ]
  },
  {
   "cell_type": "code",
   "execution_count": 73,
   "metadata": {},
   "outputs": [
    {
     "name": "stdout",
     "output_type": "stream",
     "text": [
      "[[ 100  400  900]\n",
      " [4900 6400 8100]]\n",
      "(3L, 3L)\n",
      "Type of element:  int32\n",
      "90\n",
      "[[10 20 30]\n",
      " [70 80 90]]\n",
      "Reverese of matrix [[70 80 90]\n",
      " [40 50 60]\n",
      " [10 20 30]]\n",
      "True\n",
      "3\n",
      "[1 2]\n",
      "[[2]\n",
      " [1]]\n",
      "[[2 4]\n",
      " [1 2]]\n"
     ]
    }
   ],
   "source": [
    "x=np.array([(10,20,30),(40,50,60),[70,80,90]])\n",
    "\n",
    "y=np.array([(10,20,30),(40,50,60),[70,80,90]])\n",
    "z=x*y\n",
    "print z[[0,2]]\n",
    "print y.shape\n",
    "print 'Type of element: ',y.dtype\n",
    "print y[2][2]\n",
    "print y[[0,2]]\n",
    "print 'Reverese of matrix',y[::-1]\n",
    "print 50 in y\n",
    "print len(y)\n",
    "\n",
    "\n",
    "a=np.array([1,2])\n",
    "b=np.array([[2],[1]])\n",
    "c=a*b\n",
    "print a\n",
    "print b\n",
    "print c"
   ]
  },
  {
   "cell_type": "code",
   "execution_count": 84,
   "metadata": {},
   "outputs": [
    {
     "name": "stdout",
     "output_type": "stream",
     "text": [
      "[10 20 30 40 50 60 70 80 90]\n",
      "<type 'numpy.ndarray'>\n",
      "(9L,)\n",
      "[[10 20 30]\n",
      " [40 50 60]\n",
      " [70 80 90]]\n",
      "[10 20 30 40 50 60 70 80 90]\n",
      "[5, 6, 7, 8, 9, 10]\n"
     ]
    }
   ],
   "source": [
    "#Arrays using Range function\n",
    "\n",
    "z=np.array(range(10,100,10))\n",
    "print z\n",
    "print type(z)\n",
    "print z.shape\n",
    "z1=z.reshape(3,3)\n",
    "print z1\n",
    "print z1.flatten()\n"
   ]
  },
  {
   "cell_type": "code",
   "execution_count": 107,
   "metadata": {},
   "outputs": [
    {
     "name": "stdout",
     "output_type": "stream",
     "text": [
      "Type of Object:  <type 'numpy.ndarray'>\n",
      "No. of elements in Object 18\n",
      "Total Size of x: 144\n",
      "Element size: 8\n",
      "[[1.  1.5 2.  2.5 3.  3.5 4.  4.5 5. ]\n",
      " [5.5 6.  6.5 7.  7.5 8.  8.5 9.  9.5]]\n",
      "[ 2.   2.5  3.   3.5  4.   4.5  5.   5.5  6.   6.5  7.   7.5  8.   8.5\n",
      "  9.   9.5 10.  10.5]\n"
     ]
    }
   ],
   "source": [
    "x=np.arange(1.0,10.0,0.5,dtype=float)\n",
    "print 'Type of Object: ',type(x)\n",
    "print 'No. of elements in Object',x.size\n",
    "print 'Total Size of x:',x.nbytes\n",
    "print 'Element size:',x.itemsize\n",
    "print x.reshape(2,9)\n",
    "print x+1"
   ]
  },
  {
   "cell_type": "code",
   "execution_count": 122,
   "metadata": {},
   "outputs": [
    {
     "name": "stdout",
     "output_type": "stream",
     "text": [
      "[1 2 3 4 5 6 7 8 9]\n",
      "[1 2 3]\n",
      "[ 2  3  4  5  6  7  8  9 10]\n",
      "[ 2  4  6  8 10 12 14 16 18]\n",
      "[[ 1  4  9]\n",
      " [ 4 10 18]\n",
      " [ 7 16 27]]\n",
      "[1 2 3 4 5 6 7 8 9]\n"
     ]
    }
   ],
   "source": [
    "x=np.array(range(1,10,1))\n",
    "y=np.array([1,2,3])\n",
    "print x\n",
    "print y\n",
    "print x+1\n",
    "print x*2\n",
    "z=x.reshape(3,3)\n",
    "c=z*y\n",
    "print c\n",
    "print x"
   ]
  },
  {
   "cell_type": "code",
   "execution_count": 135,
   "metadata": {},
   "outputs": [
    {
     "name": "stdout",
     "output_type": "stream",
     "text": [
      "(2L, 4L)\n",
      "(4L, 2L)\n",
      "[[1 2 3 4]\n",
      " [1 2 3 4]]\n",
      "[[1 2]\n",
      " [3 4]\n",
      " [1 2]\n",
      " [3 4]]\n",
      "[[1 2 3 4]\n",
      " [1 2 3 4]]\n",
      "[[1 2]\n",
      " [3 4]\n",
      " [1 2]\n",
      " [3 4]]\n"
     ]
    }
   ],
   "source": [
    "x=np.array([[1,2,3,4],[1,2,3,4]])\n",
    "print x.shape\n",
    "y=np.array([[1,2],[3,4],[1,2],[3,4]])\n",
    "print y.shape\n",
    "print x\n",
    "print y\n",
    "\n",
    "x=x.reshape(2,4)\n",
    "y=y.reshape(4,2)\n",
    "print x\n",
    "print y\n",
    "\n"
   ]
  },
  {
   "cell_type": "code",
   "execution_count": 160,
   "metadata": {},
   "outputs": [
    {
     "name": "stdout",
     "output_type": "stream",
     "text": [
      "[10 20 30 40 50 60 70 80 90]\n",
      "[[10 20 30]\n",
      " [40 50 60]\n",
      " [70 80 90]]\n",
      "60\n",
      "[20 30]\n",
      "\n",
      "Slice Array from index x[1:] till end: \n",
      "[[40 50 60]\n",
      " [70 80 90]]\n",
      "Items in second column [20 50 80]\n",
      "items in second row [40 50 60]\n",
      "items in second row [40 50 60]\n",
      "items in second till last row\n",
      "[[40 50 60]\n",
      " [70 80 90]]\n",
      "items found in column 1 onwards are \n",
      "[[20 30]\n",
      " [50 60]\n",
      " [80 90]]\n"
     ]
    }
   ],
   "source": [
    "#Array Traversing\n",
    "x=np.array(range(10,100,10))\n",
    "print x\n",
    "y=x.reshape(3,3)\n",
    "print y\n",
    "print y[1,2]\n",
    "print x[[1,2]]\n",
    "print '\\nSlice Array from index x[1:] till end: \\n',y[1:]\n",
    "print 'Items in second column',y[...,1]\n",
    "print 'items in second row',y[1,...]\n",
    "print 'items in second row',y[1]\n",
    "print 'items in second till last row\\n',y[1:,...]\n",
    "print 'items found in column 1 onwards are \\n', y[...,1:]\n",
    "\n"
   ]
  },
  {
   "cell_type": "code",
   "execution_count": 168,
   "metadata": {},
   "outputs": [
    {
     "name": "stdout",
     "output_type": "stream",
     "text": [
      "[[10 20 30]\n",
      " [40 50 60]\n",
      " [70 80 90]]\n",
      "[[False False False]\n",
      " [False False  True]\n",
      " [ True  True  True]]\n",
      "[60 70 80 90]\n",
      "[10 20 30 40]\n",
      "Fill with 1s [[1 1 1]\n",
      " [1 1 1]\n",
      " [1 1 1]]\n",
      "Fill with 0s [[0 0 0]\n",
      " [0 0 0]\n",
      " [0 0 0]]\n"
     ]
    }
   ],
   "source": [
    "x=np.array([[10,20,30],[40,50,60],[70,80,90]])\n",
    "print x\n",
    "bool_index=x>50\n",
    "print bool_index\n",
    "print x[bool_index]\n",
    "print x[x<50]\n",
    "print \"Fill with 1s\",np.ones((3,3),dtype=np.int32)\n",
    "print \"Fill with 0s\",np.zeros((3,3),dtype=np.int32)"
   ]
  },
  {
   "cell_type": "code",
   "execution_count": 175,
   "metadata": {},
   "outputs": [
    {
     "name": "stdout",
     "output_type": "stream",
     "text": [
      "[[ 20  40  60]\n",
      " [ 80 100 120]\n",
      " [140 160 180]]\n",
      "[[0 0 0]\n",
      " [0 0 0]\n",
      " [0 0 0]]\n",
      "[[ 100  400  900]\n",
      " [1600 2500 3600]\n",
      " [4900 6400 8100]]\n",
      "[[1 1 1]\n",
      " [1 1 1]\n",
      " [1 1 1]]\n",
      "[1 2 3 4]\n",
      "[[1 2]\n",
      " [3 4]]\n"
     ]
    }
   ],
   "source": [
    "x=np.array([[10,20,30],[40,50,60],[70,80,90]])\n",
    "y=np.array([[10,20,30],[40,50,60],[70,80,90]])\n",
    "\n",
    "print np.add(x,y)\n",
    "print np.subtract(x,y)\n",
    "print np.multiply(x,y)\n",
    "print np.divide(x,y)\n",
    "\n",
    "x=np.array(range(1,5,1))\n",
    "print x\n",
    "print x.reshape(2,2)\n"
   ]
  },
  {
   "cell_type": "code",
   "execution_count": 184,
   "metadata": {},
   "outputs": [
    {
     "name": "stdout",
     "output_type": "stream",
     "text": [
      "[[10 20 30]\n",
      " [40 50 60]\n",
      " [70 80 90]]\n",
      "Flatens arrays [10 20 30 40 50 60 70 80 90]\n",
      "Sort Array along first axis i.e columns [[10 20 30]\n",
      " [40 50 60]\n",
      " [70 80 90]]\n"
     ]
    }
   ],
   "source": [
    "print np.sort(y,axis=1)\n",
    "print 'Flatens arrays',np.sort(y, axis=None)\n",
    "print 'Sort Array along first axis i.e columns',np.sort(y,axis=0)"
   ]
  },
  {
   "cell_type": "code",
   "execution_count": 192,
   "metadata": {},
   "outputs": [
    {
     "name": "stdout",
     "output_type": "stream",
     "text": [
      "4 6\n",
      "Elements of index 3,5,7 are [4 6 8]\n",
      "Selective Values of Array [30 70]\n"
     ]
    }
   ],
   "source": [
    "x=np.array([1,2,3,4,5,6,7,8,9])\n",
    "print x[3],x[5]\n",
    "fancy_index=[3,5,7]\n",
    "print 'Elements of index 3,5,7 are',x[fancy_index]\n",
    "print 'Selective Values of Array',y[[0,2],[2,0]]"
   ]
  },
  {
   "cell_type": "code",
   "execution_count": 197,
   "metadata": {},
   "outputs": [
    {
     "name": "stdout",
     "output_type": "stream",
     "text": [
      " [[ 1  2  3  4  5]\n",
      " [ 6  7  8  9 10]\n",
      " [11 12 13 14 15]\n",
      " [16 17 18 19 20]\n",
      " [21 22 23 24 25]\n",
      " [26 27 28 29 30]\n",
      " [31 32 33 34 35]\n",
      " [36 37 38 39 40]]\n"
     ]
    }
   ],
   "source": [
    "x=np.array(np.arange(1,41)).reshape(8,5)\n",
    "print x\n"
   ]
  },
  {
   "cell_type": "code",
   "execution_count": 228,
   "metadata": {},
   "outputs": [
    {
     "name": "stdout",
     "output_type": "stream",
     "text": [
      "[[10 20 30]\n",
      " [40 50 60]\n",
      " [70 80 90]]\n",
      "[[10 40 70]\n",
      " [20 50 80]\n",
      " [30 60 90]]\n",
      "Swapaxes: \n",
      "[[10 40 70]\n",
      " [20 50 80]\n",
      " [30 60 90]]\n"
     ]
    }
   ],
   "source": [
    "x=np.arange(10,100,10,dtype=np.int32).reshape((3,3))\n",
    "print x\n",
    "\n",
    "y=transpose(x)\n",
    "print y\n",
    "\n",
    "#print 'Swapaxes: ',np.swapaxes(x,0,1)\n",
    "print 'Swapaxes: \\n',np.swapaxes(x,0,1)"
   ]
  },
  {
   "cell_type": "code",
   "execution_count": 234,
   "metadata": {},
   "outputs": [
    {
     "name": "stdout",
     "output_type": "stream",
     "text": [
      "[1.         1.08163265 1.16326531 1.24489796 1.32653061 1.40816327\n",
      " 1.48979592 1.57142857 1.65306122 1.73469388 1.81632653 1.89795918\n",
      " 1.97959184 2.06122449 2.14285714 2.2244898  2.30612245 2.3877551\n",
      " 2.46938776 2.55102041 2.63265306 2.71428571 2.79591837 2.87755102\n",
      " 2.95918367 3.04081633 3.12244898 3.20408163 3.28571429 3.36734694\n",
      " 3.44897959 3.53061224 3.6122449  3.69387755 3.7755102  3.85714286\n",
      " 3.93877551 4.02040816 4.10204082 4.18367347 4.26530612 4.34693878\n",
      " 4.42857143 4.51020408 4.59183673 4.67346939 4.75510204 4.83673469\n",
      " 4.91836735 5.        ]\n",
      "[10 14 18 23 27 32 36 41 45 50]\n"
     ]
    }
   ],
   "source": [
    "linvalue=np.linspace(1,5)\n",
    "#By default num=50, endPoint=Last value should we consider or not\n",
    "print linvalue\n",
    "\n",
    "linvalue=np.linspace(10,50,num=10,dtype=np.int64)#,endpoint=True)\n",
    "#By default num=50, endPoint=Last value should we consider or not\n",
    "print linvalue"
   ]
  },
  {
   "cell_type": "code",
   "execution_count": 242,
   "metadata": {},
   "outputs": [
    {
     "name": "stdout",
     "output_type": "stream",
     "text": [
      "[[0.67192748 0.54800641 0.91652192]\n",
      " [0.76587589 0.72325531 0.43731603]\n",
      " [0.79082442 0.22821533 0.19378702]]\n",
      "[0.79082442 0.72325531 0.91652192]\n",
      "[0.67192748 0.22821533 0.19378702]\n"
     ]
    }
   ],
   "source": [
    "x=np.random.random((3,3))\n",
    "print x\n",
    "print np.max(x,axis=0) #Axis 0 = Column Axis 1= ROw\n",
    "print np.min(x,axis=0) #Axis 0 = Column Axis 1= ROw"
   ]
  }
 ],
 "metadata": {
  "kernelspec": {
   "display_name": "Python 2",
   "language": "python",
   "name": "python2"
  },
  "language_info": {
   "codemirror_mode": {
    "name": "ipython",
    "version": 2
   },
   "file_extension": ".py",
   "mimetype": "text/x-python",
   "name": "python",
   "nbconvert_exporter": "python",
   "pygments_lexer": "ipython2",
   "version": "2.7.15"
  }
 },
 "nbformat": 4,
 "nbformat_minor": 2
}
