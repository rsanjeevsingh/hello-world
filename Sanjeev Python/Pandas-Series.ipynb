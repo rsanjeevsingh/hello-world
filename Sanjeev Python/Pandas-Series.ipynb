{
 "cells": [
  {
   "cell_type": "code",
   "execution_count": null,
   "metadata": {},
   "outputs": [],
   "source": [
    "#Pandas is a single dimensional labeled array capable of holding any data type like intergers, string, float, object...\n",
    "import numpy as np #Suggested way to import packages\n",
    "import pandas as pd"
   ]
  },
  {
   "cell_type": "code",
   "execution_count": null,
   "metadata": {},
   "outputs": [],
   "source": [
    "#print 'Query help on Pandas:',help(pd)"
   ]
  },
  {
   "cell_type": "code",
   "execution_count": null,
   "metadata": {},
   "outputs": [],
   "source": [
    "#Pandas Series - 1D Data strcuture\n",
    "\n",
    "x=pd.Series([10,20,30,40,50])\n",
    "print x,'\\nType: ',type(x)\n",
    "print 'Length:',len(x)\n",
    "print 'Shape/Dimension: (Rows,Columns): ',x.shape"
   ]
  },
  {
   "cell_type": "code",
   "execution_count": null,
   "metadata": {},
   "outputs": [],
   "source": [
    "y=pd.Series([10,20,30,40,50],dtype=float)\n",
    "print y,'\\nType: ',type(y)"
   ]
  },
  {
   "cell_type": "code",
   "execution_count": null,
   "metadata": {},
   "outputs": [],
   "source": [
    "z=pd.Series([20026953,'Rajaputra Sanjeev Singh','Wipro DOP'])\n",
    "print z"
   ]
  },
  {
   "cell_type": "code",
   "execution_count": null,
   "metadata": {},
   "outputs": [],
   "source": [
    "#Create NumPy Array & use it to create Panda Series\n",
    "a=np.array([10,20,30,40,50])\n",
    "x=pd.Series(a)\n",
    "print a\n",
    "print x\n",
    "print type(x)\n",
    "print type(x[1])"
   ]
  },
  {
   "cell_type": "code",
   "execution_count": null,
   "metadata": {},
   "outputs": [],
   "source": [
    "#Traversing in DataSet\n",
    "a=np.array([10,20,30,40,50])\n",
    "x=pd.Series(a)\n",
    "print x[0]\n",
    "print x[:3]\n",
    "print 'Selecive Two values: ',x[[0,3]]"
   ]
  },
  {
   "cell_type": "code",
   "execution_count": null,
   "metadata": {},
   "outputs": [],
   "source": [
    "b=pd.Series(np.arange(10,51,10))\n",
    "print b\n",
    "type (b)"
   ]
  },
  {
   "cell_type": "code",
   "execution_count": null,
   "metadata": {},
   "outputs": [],
   "source": [
    "b=pd.Series([10,20,30,40,50])\n",
    "print b.add(5)\n",
    "print x.sub(5)\n",
    "print x.mul(5)\n",
    "print x.div(5)"
   ]
  },
  {
   "cell_type": "code",
   "execution_count": null,
   "metadata": {},
   "outputs": [],
   "source": [
    "#Reindexing\n",
    "x = pd.Series(['hello',2,'hi',4,5,6,7,8,9,0],index=['r1','r2','r3','r4','r5','r6','r7','r8','r9','r0'])\n",
    "#print x\n",
    "#print x['r1']\n",
    "#print x[['r1','r2']]\n",
    "x.reindex(range(10),fill_value=0)\n",
    "z1=x.reindex(range(6),method='ffill')"
   ]
  },
  {
   "cell_type": "code",
   "execution_count": 121,
   "metadata": {},
   "outputs": [
    {
     "name": "stdout",
     "output_type": "stream",
     "text": [
      "0    10\n",
      "1    20\n",
      "2    30\n",
      "3    40\n",
      "4    50\n",
      "5    50\n",
      "dtype: int64\n",
      "0    10.0\n",
      "1    20.0\n",
      "2    30.0\n",
      "3    40.0\n",
      "4    50.0\n",
      "5     NaN\n",
      "dtype: float64\n"
     ]
    },
    {
     "data": {
      "text/plain": [
       "0    10\n",
       "1    20\n",
       "2    30\n",
       "3    40\n",
       "4    50\n",
       "5     0\n",
       "dtype: int64"
      ]
     },
     "execution_count": 121,
     "metadata": {},
     "output_type": "execute_result"
    }
   ],
   "source": [
    "x=pd.Series([10,20,30,40,50])\n",
    "z1=x.reindex(range(6),method='ffill')\n",
    "print z1\n",
    "z2=x.reindex(range(6),method='bfill')\n",
    "print z2\n",
    "x.reindex(range(6),fill_value=0)"
   ]
  }
 ],
 "metadata": {
  "kernelspec": {
   "display_name": "Python 2",
   "language": "python",
   "name": "python2"
  },
  "language_info": {
   "codemirror_mode": {
    "name": "ipython",
    "version": 2
   },
   "file_extension": ".py",
   "mimetype": "text/x-python",
   "name": "python",
   "nbconvert_exporter": "python",
   "pygments_lexer": "ipython2",
   "version": "2.7.15"
  }
 },
 "nbformat": 4,
 "nbformat_minor": 2
}
