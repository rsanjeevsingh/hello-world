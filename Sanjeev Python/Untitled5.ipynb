{
 "cells": [
  {
   "cell_type": "code",
   "execution_count": null,
   "metadata": {},
   "outputs": [],
   "source": [
    "#This is my first program in Jupyter Notebook"
   ]
  },
  {
   "cell_type": "code",
   "execution_count": null,
   "metadata": {},
   "outputs": [],
   "source": [
    "print \"Addition Program\"\n",
    "a=input(\"Enter a value \")\n",
    "b=input(\"Enter b value \")\n",
    "print 'Sum of ',a,' and ',b,' is ',a+b"
   ]
  },
  {
   "cell_type": "code",
   "execution_count": 14,
   "metadata": {},
   "outputs": [
    {
     "name": "stdout",
     "output_type": "stream",
     "text": [
      "Class A\n",
      "Class B\n"
     ]
    },
    {
     "ename": "TypeError",
     "evalue": "Error when calling the metaclass bases\n    classmethod expected 1 arguments, got 3",
     "output_type": "error",
     "traceback": [
      "\u001b[1;31m---------------------------------------------------------------------------\u001b[0m",
      "\u001b[1;31mTypeError\u001b[0m                                 Traceback (most recent call last)",
      "\u001b[1;32m<ipython-input-14-8ff9115adc40>\u001b[0m in \u001b[0;36m<module>\u001b[1;34m()\u001b[0m\n\u001b[0;32m      4\u001b[0m     \u001b[1;32mpass\u001b[0m\u001b[1;33m\u001b[0m\u001b[0m\n\u001b[0;32m      5\u001b[0m \u001b[1;33m@\u001b[0m\u001b[0mclassmethod\u001b[0m\u001b[1;33m\u001b[0m\u001b[0m\n\u001b[1;32m----> 6\u001b[1;33m \u001b[1;32mclass\u001b[0m \u001b[0mB\u001b[0m\u001b[1;33m(\u001b[0m\u001b[0mA\u001b[0m\u001b[1;33m)\u001b[0m\u001b[1;33m:\u001b[0m\u001b[1;33m\u001b[0m\u001b[0m\n\u001b[0m\u001b[0;32m      7\u001b[0m         \u001b[1;32mprint\u001b[0m \u001b[1;34m\"Class B\"\u001b[0m\u001b[1;33m\u001b[0m\u001b[0m\n\u001b[0;32m      8\u001b[0m         \u001b[1;32mpass\u001b[0m\u001b[1;33m\u001b[0m\u001b[0m\n",
      "\u001b[1;31mTypeError\u001b[0m: Error when calling the metaclass bases\n    classmethod expected 1 arguments, got 3"
     ]
    }
   ],
   "source": [
    "@classmethod\n",
    "class A:\n",
    "    print \"Class A\"\n",
    "    pass\n",
    "@classmethod\n",
    "class B(A):\n",
    "        print \"Class B\"\n",
    "        pass\n",
    "@classmethod\n",
    "class C(A):\n",
    "        print \"Class C\"\n",
    "@classmethod\n",
    "class D(B):\n",
    "        print \"Class D\"\n",
    "@classmethod\n",
    "class E(B,C):\n",
    "        print \"Class E\"\n",
    "@classmethod\n",
    "class F(C):\n",
    "        print \"Class F\"\n",
    "@classmethod\n",
    "class G(D,E):\n",
    "        print \"Class D\"\n",
    "@classmethod\n",
    "class H(E,F):\n",
    "        print \"Class H\"\n",
    "@classmethod\n",
    "class I(G,H):\n",
    "        print \"Class I\"\n",
    "\n",
    "ob=I()"
   ]
  },
  {
   "cell_type": "code",
   "execution_count": null,
   "metadata": {},
   "outputs": [],
   "source": []
  }
 ],
 "metadata": {
  "kernelspec": {
   "display_name": "Python 2",
   "language": "python",
   "name": "python2"
  },
  "language_info": {
   "codemirror_mode": {
    "name": "ipython",
    "version": 2
   },
   "file_extension": ".py",
   "mimetype": "text/x-python",
   "name": "python",
   "nbconvert_exporter": "python",
   "pygments_lexer": "ipython2",
   "version": "2.7.15"
  }
 },
 "nbformat": 4,
 "nbformat_minor": 2
}
